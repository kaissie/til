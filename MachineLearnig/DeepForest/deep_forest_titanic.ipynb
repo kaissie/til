{
 "cells": [
  {
   "cell_type": "code",
   "execution_count": 1,
   "metadata": {},
   "outputs": [],
   "source": [
    "import pandas as pd\n",
    "import numpy as np\n",
    "\n",
    "from sklearn.datasets import fetch_mldata\n",
    "from sklearn.ensemble import ExtraTreesClassifier, RandomForestClassifier\n",
    "from sklearn.metrics import accuracy_score, f1_score\n",
    "from sklearn.model_selection import train_test_split\n",
    "\n",
    "train = pd.read_csv(\"titanic/train.csv\")\n",
    "test = pd.read_csv(\"titanic/test.csv\")\n",
    "\n",
    "train[\"Age\"] = train[\"Age\"].fillna(train[\"Age\"].median())\n",
    "train[\"Embarked\"] = train[\"Embarked\"].fillna(\"S\")\n",
    "\n",
    "test[\"Age\"] = test[\"Age\"].fillna(test[\"Age\"].median())\n",
    "test[\"Fare\"] = test[\"Fare\"].fillna(test[\"Fare\"].median())\n",
    "\n",
    "train['Sex'] = train['Sex'].apply(lambda x: 1 if x == 'male' else 0)\n",
    "train['Embarked'] = train['Embarked'].map( {'S': 0 , 'C':1 , 'Q':2}).astype(int)\n",
    "\n",
    "test['Sex'] = test['Sex'].apply(lambda x: 1 if x == 'male' else 0)\n",
    "test['Embarked'] = test['Embarked'].map( {'S': 0 , 'C':1 , 'Q':2}).astype(int)"
   ]
  },
  {
   "cell_type": "code",
   "execution_count": 2,
   "metadata": {},
   "outputs": [],
   "source": [
    "train_y = train.Survived\n",
    "train_X = train.drop(['Survived','PassengerId','Name','Ticket','Cabin'],axis = 1)\n",
    "(train_X, test_X ,train_y, test_y) = train_test_split(train_X, train_y, test_size = 0.3, random_state = 666)"
   ]
  },
  {
   "cell_type": "markdown",
   "metadata": {},
   "source": [
    "## Decision Tree Classifier"
   ]
  },
  {
   "cell_type": "code",
   "execution_count": 5,
   "metadata": {},
   "outputs": [],
   "source": [
    "from sklearn.tree import DecisionTreeClassifier\n",
    "dec_tree = DecisionTreeClassifier()\n",
    "dec_tree = dec_tree.fit(train_X , train_y)"
   ]
  },
  {
   "cell_type": "code",
   "execution_count": 6,
   "metadata": {},
   "outputs": [
    {
     "name": "stdout",
     "output_type": "stream",
     "text": [
      "Accuracy: 0.7910447761194029 F1 score: 0.7910447761194029\n"
     ]
    }
   ],
   "source": [
    "y_pred = dec_tree.predict(test_X)\n",
    "\n",
    "print(\n",
    "    'Accuracy:', accuracy_score(test_y, y_pred),\n",
    "    'F1 score:', f1_score(test_y, y_pred, average='weighted')\n",
    ")"
   ]
  },
  {
   "cell_type": "markdown",
   "metadata": {},
   "source": [
    "## Random Forest"
   ]
  },
  {
   "cell_type": "code",
   "execution_count": 3,
   "metadata": {},
   "outputs": [
    {
     "name": "stderr",
     "output_type": "stream",
     "text": [
      "C:\\Users\\ghana\\Anaconda3\\envs\\kaggle\\lib\\site-packages\\sklearn\\ensemble\\forest.py:245: FutureWarning: The default value of n_estimators will change from 10 in version 0.20 to 100 in 0.22.\n",
      "  \"10 in version 0.20 to 100 in 0.22.\", FutureWarning)\n"
     ]
    }
   ],
   "source": [
    "from sklearn.ensemble import RandomForestClassifier\n",
    "rnd_forest = RandomForestClassifier()\n",
    "rnd_forest = rnd_forest.fit(train_X , train_y)"
   ]
  },
  {
   "cell_type": "code",
   "execution_count": 4,
   "metadata": {},
   "outputs": [
    {
     "name": "stdout",
     "output_type": "stream",
     "text": [
      "Accuracy: 0.8208955223880597 F1 score: 0.8185260797359765\n"
     ]
    }
   ],
   "source": [
    "y_pred = rnd_forest.predict(test_X)\n",
    "\n",
    "print(\n",
    "    'Accuracy:', accuracy_score(test_y, y_pred),\n",
    "    'F1 score:', f1_score(test_y, y_pred, average='weighted')\n",
    ")"
   ]
  },
  {
   "cell_type": "markdown",
   "metadata": {},
   "source": [
    "## Deep Forest"
   ]
  },
  {
   "cell_type": "code",
   "execution_count": 7,
   "metadata": {},
   "outputs": [],
   "source": [
    "from deep_forest.deep_forest import MGCForest\n",
    "import random\n",
    "import uuid\n",
    "\n",
    "\n",
    "mgc_forest = MGCForest(\n",
    "    estimators_config={\n",
    "        'mgs': [{\n",
    "            'estimator_class': ExtraTreesClassifier,\n",
    "            'estimator_params': {\n",
    "                'n_estimators': 30,\n",
    "                'min_samples_split': 21,\n",
    "                'n_jobs': -1,\n",
    "            }\n",
    "        }, {\n",
    "            'estimator_class': RandomForestClassifier,\n",
    "            'estimator_params': {\n",
    "                'n_estimators': 30,\n",
    "                'min_samples_split': 21,\n",
    "                'n_jobs': -1,\n",
    "            }\n",
    "        }],\n",
    "        'cascade': [{\n",
    "            'estimator_class': ExtraTreesClassifier,\n",
    "            'estimator_params': {\n",
    "                'n_estimators': 1000,\n",
    "                'min_samples_split': 11,\n",
    "                'max_features': 1,\n",
    "                'n_jobs': -1,\n",
    "            }\n",
    "        }, {\n",
    "            'estimator_class': ExtraTreesClassifier,\n",
    "            'estimator_params': {\n",
    "                'n_estimators': 1000,\n",
    "                'min_samples_split': 11,\n",
    "                'max_features': 'sqrt',\n",
    "                'n_jobs': -1,\n",
    "            }\n",
    "        }, {\n",
    "            'estimator_class': RandomForestClassifier,\n",
    "            'estimator_params': {\n",
    "                'n_estimators': 1000,\n",
    "                'min_samples_split': 11,\n",
    "                'max_features': 1,\n",
    "                'n_jobs': -1,\n",
    "            }\n",
    "        }, {\n",
    "            'estimator_class': RandomForestClassifier,\n",
    "            'estimator_params': {\n",
    "                'n_estimators': 1000,\n",
    "                'min_samples_split': 11,\n",
    "                'max_features': 'sqrt',\n",
    "                'n_jobs': -1,\n",
    "            }\n",
    "        }]\n",
    "    },\n",
    "    stride_ratios=[1.0 / 4, 1.0 / 9, 1.0 / 16],\n",
    ")"
   ]
  },
  {
   "cell_type": "code",
   "execution_count": 8,
   "metadata": {},
   "outputs": [
    {
     "name": "stderr",
     "output_type": "stream",
     "text": [
      "C:\\Users\\ghana\\Anaconda3\\envs\\kaggle\\lib\\site-packages\\ipykernel_launcher.py:1: FutureWarning: Method .as_matrix will be removed in a future version. Use .values instead.\n",
      "  \"\"\"Entry point for launching an IPython kernel.\n",
      "C:\\Users\\ghana\\Anaconda3\\envs\\kaggle\\lib\\site-packages\\ipykernel_launcher.py:2: FutureWarning: Method .as_matrix will be removed in a future version. Use .values instead.\n",
      "  \n",
      "C:\\Users\\ghana\\Anaconda3\\envs\\kaggle\\lib\\site-packages\\ipykernel_launcher.py:4: FutureWarning: Method .as_matrix will be removed in a future version. Use .values instead.\n",
      "  after removing the cwd from sys.path.\n",
      "C:\\Users\\ghana\\Anaconda3\\envs\\kaggle\\lib\\site-packages\\ipykernel_launcher.py:5: FutureWarning: Method .as_matrix will be removed in a future version. Use .values instead.\n",
      "  \"\"\"\n"
     ]
    }
   ],
   "source": [
    "X_train = train_X.as_matrix()\n",
    "y_train  = train_y.as_matrix()\n",
    "\n",
    "X_test = test_X.as_matrix()\n",
    "y_test  = test_y.as_matrix()"
   ]
  },
  {
   "cell_type": "code",
   "execution_count": 9,
   "metadata": {},
   "outputs": [
    {
     "name": "stderr",
     "output_type": "stream",
     "text": [
      "<MultiGrainedScanner stride_ratio=0.25> - Scanning and fitting for X ((623, 7)) and y ((623,)) started\n",
      "<MultiGrainedScanner stride_ratio=0.25> - Window shape: [1] Total windows: 7\n",
      "<MultiGrainedScanner stride_ratio=0.25> - Finished scan X ((623, 7)) and got predictions with shape (623, 28)\n",
      "<MultiGrainedScanner stride_ratio=0.1111111111111111> - Scanning and fitting for X ((623, 7)) and y ((623,)) started\n",
      "<MultiGrainedScanner stride_ratio=0.1111111111111111> - Window shape: [1] Total windows: 7\n",
      "<MultiGrainedScanner stride_ratio=0.1111111111111111> - Finished scan X ((623, 7)) and got predictions with shape (623, 28)\n",
      "<MultiGrainedScanner stride_ratio=0.0625> - Scanning and fitting for X ((623, 7)) and y ((623,)) started\n",
      "<MultiGrainedScanner stride_ratio=0.0625> - Window shape: [1] Total windows: 7\n",
      "<MultiGrainedScanner stride_ratio=0.0625> - Finished scan X ((623, 7)) and got predictions with shape (623, 28)\n",
      "<CascadeForest forests=4> - Cascade fitting for X ((623, 84)) and y ((623,)) started\n",
      "<CascadeForest forests=4> - Level #1:: X with shape: (623, 84)\n",
      "<CascadeForest forests=4> - Level 1:: got all predictions\n",
      "<CascadeForest forests=4> - Level 1:: got accuracy 0.8202247191011236\n",
      "<CascadeForest forests=4> - Level #2:: X with shape: (623, 92)\n",
      "<CascadeForest forests=4> - Level 2:: got all predictions\n",
      "<CascadeForest forests=4> - Level 2:: got accuracy 0.8041733547351525\n"
     ]
    }
   ],
   "source": [
    "mgc_forest.fit(X_train , y_train)"
   ]
  },
  {
   "cell_type": "code",
   "execution_count": 10,
   "metadata": {},
   "outputs": [
    {
     "name": "stderr",
     "output_type": "stream",
     "text": [
      "<MultiGrainedScanner stride_ratio=0.25> - Scanning and fitting for X ((268, 7)) and y (None) started\n",
      "<MultiGrainedScanner stride_ratio=0.25> - Window shape: [1] Total windows: 7\n",
      "<MultiGrainedScanner stride_ratio=0.25> - Finished scan X ((268, 7)) and got predictions with shape (268, 28)\n",
      "<MultiGrainedScanner stride_ratio=0.1111111111111111> - Scanning and fitting for X ((268, 7)) and y (None) started\n",
      "<MultiGrainedScanner stride_ratio=0.1111111111111111> - Window shape: [1] Total windows: 7\n",
      "<MultiGrainedScanner stride_ratio=0.1111111111111111> - Finished scan X ((268, 7)) and got predictions with shape (268, 28)\n",
      "<MultiGrainedScanner stride_ratio=0.0625> - Scanning and fitting for X ((268, 7)) and y (None) started\n",
      "<MultiGrainedScanner stride_ratio=0.0625> - Window shape: [1] Total windows: 7\n",
      "<MultiGrainedScanner stride_ratio=0.0625> - Finished scan X ((268, 7)) and got predictions with shape (268, 28)\n",
      "<CascadeForest forests=4> - Shape of predictions: (4, 268, 2) shape of X: (268, 84)\n"
     ]
    },
    {
     "name": "stdout",
     "output_type": "stream",
     "text": [
      "Prediction shape: (268,)\n",
      "Accuracy: 0.8171641791044776 F1 score: 0.8094520467654797\n"
     ]
    }
   ],
   "source": [
    "y_pred = mgc_forest.predict(X_test)\n",
    "\n",
    "print('Prediction shape:', y_pred.shape)\n",
    "print(\n",
    "    'Accuracy:', accuracy_score(y_test, y_pred),\n",
    "    'F1 score:', f1_score(y_test, y_pred, average='weighted')\n",
    ")"
   ]
  },
  {
   "cell_type": "code",
   "execution_count": null,
   "metadata": {},
   "outputs": [],
   "source": []
  }
 ],
 "metadata": {
  "jupytext": {
   "formats": "ipynb,py"
  },
  "kernelspec": {
   "display_name": "Python 3",
   "language": "python",
   "name": "python3"
  },
  "language_info": {
   "codemirror_mode": {
    "name": "ipython",
    "version": 3
   },
   "file_extension": ".py",
   "mimetype": "text/x-python",
   "name": "python",
   "nbconvert_exporter": "python",
   "pygments_lexer": "ipython3",
   "version": "3.7.5"
  }
 },
 "nbformat": 4,
 "nbformat_minor": 4
}
