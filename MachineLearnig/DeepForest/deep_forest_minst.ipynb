{
 "cells": [
  {
   "cell_type": "code",
   "execution_count": 1,
   "metadata": {},
   "outputs": [],
   "source": [
    "import pandas as pd\n",
    "import numpy as np\n",
    "\n",
    "from sklearn.datasets import fetch_mldata\n",
    "from sklearn.ensemble import ExtraTreesClassifier, RandomForestClassifier\n",
    "from sklearn.metrics import accuracy_score, f1_score\n",
    "from sklearn.model_selection import train_test_split\n",
    "\n",
    "from sklearn.model_selection import train_test_split\n",
    "from sklearn.preprocessing import LabelEncoder"
   ]
  },
  {
   "cell_type": "code",
   "execution_count": 2,
   "metadata": {},
   "outputs": [],
   "source": [
    "train = pd.read_csv('mnist/train.csv',header=None)\n",
    "test = pd.read_csv('mnist/test.csv',header=None)"
   ]
  },
  {
   "cell_type": "code",
   "execution_count": 3,
   "metadata": {},
   "outputs": [],
   "source": [
    "train_y = train[0]\n",
    "train_X = train.drop(0,axis = 1)\n",
    "test_y = test[0]\n",
    "test_X = test.drop(0,axis = 1)\n",
    "\n",
    "train_X = train_X[:1000]\n",
    "train_y = train_y[:1000]\n",
    "test_X = test_X\n",
    "test_y = test_y"
   ]
  },
  {
   "cell_type": "markdown",
   "metadata": {},
   "source": [
    "## Decision Tree Classifier"
   ]
  },
  {
   "cell_type": "code",
   "execution_count": 4,
   "metadata": {},
   "outputs": [],
   "source": [
    "from sklearn.tree import DecisionTreeClassifier\n",
    "dec_tree = DecisionTreeClassifier()\n",
    "dec_tree = dec_tree.fit(train_X , train_y)"
   ]
  },
  {
   "cell_type": "code",
   "execution_count": 5,
   "metadata": {},
   "outputs": [
    {
     "name": "stdout",
     "output_type": "stream",
     "text": [
      "Accuracy: 0.6776 F1 score: 0.6764946684638686\n"
     ]
    }
   ],
   "source": [
    "y_pred = dec_tree.predict(test_X)\n",
    "\n",
    "print(\n",
    "    'Accuracy:', accuracy_score(test_y, y_pred),\n",
    "    'F1 score:', f1_score(test_y, y_pred, average='weighted')\n",
    ")"
   ]
  },
  {
   "cell_type": "markdown",
   "metadata": {},
   "source": [
    "## Random Forest"
   ]
  },
  {
   "cell_type": "code",
   "execution_count": 6,
   "metadata": {},
   "outputs": [
    {
     "name": "stderr",
     "output_type": "stream",
     "text": [
      "C:\\Users\\ghana\\Anaconda3\\envs\\kaggle\\lib\\site-packages\\sklearn\\ensemble\\forest.py:245: FutureWarning: The default value of n_estimators will change from 10 in version 0.20 to 100 in 0.22.\n",
      "  \"10 in version 0.20 to 100 in 0.22.\", FutureWarning)\n"
     ]
    }
   ],
   "source": [
    "from sklearn.ensemble import RandomForestClassifier\n",
    "rnd_forest = RandomForestClassifier()\n",
    "rnd_forest = rnd_forest.fit(train_X , train_y)"
   ]
  },
  {
   "cell_type": "code",
   "execution_count": 7,
   "metadata": {},
   "outputs": [
    {
     "name": "stdout",
     "output_type": "stream",
     "text": [
      "Accuracy: 0.8033 F1 score: 0.8019406482569508\n"
     ]
    }
   ],
   "source": [
    "y_pred = rnd_forest.predict(test_X)\n",
    "\n",
    "print(\n",
    "    'Accuracy:', accuracy_score(test_y, y_pred),\n",
    "    'F1 score:', f1_score(test_y, y_pred, average='weighted')\n",
    ")"
   ]
  },
  {
   "cell_type": "markdown",
   "metadata": {},
   "source": [
    "## Deep Forest"
   ]
  },
  {
   "cell_type": "code",
   "execution_count": 8,
   "metadata": {},
   "outputs": [],
   "source": [
    "from deep_forest.deep_forest import MGCForest\n",
    "import random\n",
    "import uuid\n",
    "\n",
    "from sklearn.datasets import fetch_mldata\n",
    "from sklearn.ensemble import ExtraTreesClassifier, RandomForestClassifier\n",
    "from sklearn.metrics import accuracy_score, f1_score\n",
    "from sklearn.model_selection import train_test_split\n",
    "mgc_forest = MGCForest(\n",
    "    estimators_config={\n",
    "        'mgs': [{\n",
    "            'estimator_class': ExtraTreesClassifier,\n",
    "            'estimator_params': {\n",
    "                'n_estimators': 30,\n",
    "                'min_samples_split': 21,\n",
    "                'n_jobs': -1,\n",
    "            }\n",
    "        }, {\n",
    "            'estimator_class': RandomForestClassifier,\n",
    "            'estimator_params': {\n",
    "                'n_estimators': 30,\n",
    "                'min_samples_split': 21,\n",
    "                'n_jobs': -1,\n",
    "            }\n",
    "        }],\n",
    "        'cascade': [{\n",
    "            'estimator_class': ExtraTreesClassifier,\n",
    "            'estimator_params': {\n",
    "                'n_estimators': 1000,\n",
    "                'min_samples_split': 11,\n",
    "                'max_features': 1,\n",
    "                'n_jobs': -1,\n",
    "            }\n",
    "        }, {\n",
    "            'estimator_class': ExtraTreesClassifier,\n",
    "            'estimator_params': {\n",
    "                'n_estimators': 1000,\n",
    "                'min_samples_split': 11,\n",
    "                'max_features': 'sqrt',\n",
    "                'n_jobs': -1,\n",
    "            }\n",
    "        }, {\n",
    "            'estimator_class': RandomForestClassifier,\n",
    "            'estimator_params': {\n",
    "                'n_estimators': 1000,\n",
    "                'min_samples_split': 11,\n",
    "                'max_features': 1,\n",
    "                'n_jobs': -1,\n",
    "            }\n",
    "        }, {\n",
    "            'estimator_class': RandomForestClassifier,\n",
    "            'estimator_params': {\n",
    "                'n_estimators': 1000,\n",
    "                'min_samples_split': 11,\n",
    "                'max_features': 'sqrt',\n",
    "                'n_jobs': -1,\n",
    "            }\n",
    "        }]\n",
    "    },\n",
    "    stride_ratios=[1.0 / 4, 1.0 / 9, 1.0 / 16],\n",
    ")"
   ]
  },
  {
   "cell_type": "code",
   "execution_count": 9,
   "metadata": {},
   "outputs": [
    {
     "name": "stdout",
     "output_type": "stream",
     "text": [
      "X_train: (1000, 28, 28) int64\n",
      "y_train: (1000,) int64\n",
      "X_test: (10000, 28, 28)\n",
      "y_test: (10000,)\n"
     ]
    },
    {
     "name": "stderr",
     "output_type": "stream",
     "text": [
      "C:\\Users\\ghana\\Anaconda3\\envs\\kaggle\\lib\\site-packages\\ipykernel_launcher.py:1: FutureWarning: Method .as_matrix will be removed in a future version. Use .values instead.\n",
      "  \"\"\"Entry point for launching an IPython kernel.\n",
      "C:\\Users\\ghana\\Anaconda3\\envs\\kaggle\\lib\\site-packages\\ipykernel_launcher.py:2: FutureWarning: Method .as_matrix will be removed in a future version. Use .values instead.\n",
      "  \n"
     ]
    }
   ],
   "source": [
    "X_train, y_train = train_X.as_matrix(), train_y.as_matrix()\n",
    "X_test, y_test = test_X.as_matrix(), test_y.as_matrix()\n",
    "\n",
    "\n",
    "X_train = X_train.reshape((len(X_train), 28, 28))\n",
    "X_test = X_test.reshape((len(X_test), 28, 28))\n",
    "\n",
    "\n",
    "print('X_train:', X_train.shape, X_train.dtype)\n",
    "print('y_train:', y_train.shape, y_train.dtype)\n",
    "print('X_test:', X_test.shape)\n",
    "print('y_test:', y_test.shape)"
   ]
  },
  {
   "cell_type": "markdown",
   "metadata": {},
   "source": [
    "### 学習"
   ]
  },
  {
   "cell_type": "code",
   "execution_count": 10,
   "metadata": {
    "collapsed": true,
    "jupyter": {
     "outputs_hidden": true
    }
   },
   "outputs": [
    {
     "name": "stderr",
     "output_type": "stream",
     "text": [
      "<MultiGrainedScanner stride_ratio=0.25> - Scanning and fitting for X ((1000, 28, 28)) and y ((1000,)) started\n",
      "<MultiGrainedScanner stride_ratio=0.25> - Window shape: [7, 7] Total windows: 484\n",
      "<MultiGrainedScanner stride_ratio=0.25> - Finished scan X ((1000, 28, 28)) and got predictions with shape (1000, 9680)\n",
      "<MultiGrainedScanner stride_ratio=0.1111111111111111> - Scanning and fitting for X ((1000, 28, 28)) and y ((1000,)) started\n",
      "<MultiGrainedScanner stride_ratio=0.1111111111111111> - Window shape: [3, 3] Total windows: 676\n",
      "<MultiGrainedScanner stride_ratio=0.1111111111111111> - Finished scan X ((1000, 28, 28)) and got predictions with shape (1000, 13520)\n",
      "<MultiGrainedScanner stride_ratio=0.0625> - Scanning and fitting for X ((1000, 28, 28)) and y ((1000,)) started\n",
      "<MultiGrainedScanner stride_ratio=0.0625> - Window shape: [1, 1] Total windows: 784\n",
      "<MultiGrainedScanner stride_ratio=0.0625> - Finished scan X ((1000, 28, 28)) and got predictions with shape (1000, 15680)\n",
      "<CascadeForest forests=4> - Cascade fitting for X ((1000, 38880)) and y ((1000,)) started\n",
      "<CascadeForest forests=4> - Level #1:: X with shape: (1000, 38880)\n",
      "<CascadeForest forests=4> - Level 1:: got all predictions\n",
      "<CascadeForest forests=4> - Level 1:: got accuracy 0.946\n",
      "<CascadeForest forests=4> - Level #2:: X with shape: (1000, 38920)\n",
      "<CascadeForest forests=4> - Level 2:: got all predictions\n",
      "<CascadeForest forests=4> - Level 2:: got accuracy 0.946\n"
     ]
    }
   ],
   "source": [
    "mgc_forest.fit(X_train, y_train)"
   ]
  },
  {
   "cell_type": "markdown",
   "metadata": {},
   "source": [
    "### 予測"
   ]
  },
  {
   "cell_type": "code",
   "execution_count": 11,
   "metadata": {},
   "outputs": [
    {
     "name": "stderr",
     "output_type": "stream",
     "text": [
      "<MultiGrainedScanner stride_ratio=0.25> - Scanning and fitting for X ((10000, 28, 28)) and y (None) started\n",
      "<MultiGrainedScanner stride_ratio=0.25> - Window shape: [7, 7] Total windows: 484\n",
      "<MultiGrainedScanner stride_ratio=0.25> - Finished scan X ((10000, 28, 28)) and got predictions with shape (10000, 9680)\n",
      "<MultiGrainedScanner stride_ratio=0.1111111111111111> - Scanning and fitting for X ((10000, 28, 28)) and y (None) started\n",
      "<MultiGrainedScanner stride_ratio=0.1111111111111111> - Window shape: [3, 3] Total windows: 676\n",
      "<MultiGrainedScanner stride_ratio=0.1111111111111111> - Finished scan X ((10000, 28, 28)) and got predictions with shape (10000, 13520)\n",
      "<MultiGrainedScanner stride_ratio=0.0625> - Scanning and fitting for X ((10000, 28, 28)) and y (None) started\n",
      "<MultiGrainedScanner stride_ratio=0.0625> - Window shape: [1, 1] Total windows: 784\n",
      "<MultiGrainedScanner stride_ratio=0.0625> - Finished scan X ((10000, 28, 28)) and got predictions with shape (10000, 15680)\n",
      "<CascadeForest forests=4> - Shape of predictions: (4, 10000, 10) shape of X: (10000, 38880)\n"
     ]
    },
    {
     "name": "stdout",
     "output_type": "stream",
     "text": [
      "Prediction shape: (10000,)\n",
      "Accuracy: 0.9596 F1 score: 0.9596161857208355\n"
     ]
    }
   ],
   "source": [
    "y_pred = mgc_forest.predict(X_test)\n",
    "\n",
    "print('Prediction shape:', y_pred.shape)\n",
    "print(\n",
    "    'Accuracy:', accuracy_score(y_test, y_pred),\n",
    "    'F1 score:', f1_score(y_test, y_pred, average='weighted')\n",
    ")"
   ]
  },
  {
   "cell_type": "code",
   "execution_count": null,
   "metadata": {},
   "outputs": [],
   "source": []
  }
 ],
 "metadata": {
  "jupytext": {
   "formats": "ipynb,py"
  },
  "kernelspec": {
   "display_name": "Python 3",
   "language": "python",
   "name": "python3"
  },
  "language_info": {
   "codemirror_mode": {
    "name": "ipython",
    "version": 3
   },
   "file_extension": ".py",
   "mimetype": "text/x-python",
   "name": "python",
   "nbconvert_exporter": "python",
   "pygments_lexer": "ipython3",
   "version": "3.7.5"
  }
 },
 "nbformat": 4,
 "nbformat_minor": 4
}
